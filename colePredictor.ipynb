{
 "cells": [
  {
   "cell_type": "code",
   "execution_count": 1,
   "id": "fcb68caa",
   "metadata": {},
   "outputs": [],
   "source": [
    "import pandas as pd\n",
    "import random\n",
    "from sklearn import preprocessing\n",
    "import numpy as np\n",
    "from tensorflow import keras\n",
    "from tensorflow.keras import layers\n",
    "from tensorflow.keras.models import Sequential\n",
    "from tensorflow.keras.layers import Dense"
   ]
  },
  {
   "cell_type": "code",
   "execution_count": 2,
   "id": "06426e32",
   "metadata": {},
   "outputs": [],
   "source": [
    "def pitch_csv_to_dic(df):\n",
    "    # dictionary with player id keys and values tuples of pitch type and percent pitched\n",
    "    player_pitch = {}\n",
    "    # set of all the types of pitches \n",
    "    pitch_types = set()\n",
    "    for indx, row in df.iterrows():\n",
    "        player_id = row[\"player_id\"]\n",
    "        pitch_type = row[\"pitch_type\"]\n",
    "        pitch_usage = row[\"pitch_usage\"]\n",
    "        pitch_types.add(pitch_type)\n",
    "\n",
    "        if row[\"player_id\"] in player_pitch:\n",
    "            player_pitch[row[\"player_id\"]].append((pitch_type,pitch_usage))\n",
    "        else:\n",
    "            player_pitch[row[\"player_id\"]] = [(pitch_type,pitch_usage)]\n",
    "        \n",
    "    return player_pitch, pitch_types\n",
    "\n",
    "def custom_encode(y):\n",
    "    new_y = []\n",
    "    for i, elem in enumerate(y):\n",
    "        vec = [0,0,0,0,0,0]\n",
    "        if elem == \"CH\":\n",
    "            vec[0] = 1\n",
    "        elif elem == \"FF\":\n",
    "            vec[1] = 1\n",
    "        elif elem == \"KC\":\n",
    "            vec[2] = 1\n",
    "        elif elem == \"SL\":\n",
    "            vec[3] = 1\n",
    "        elif elem == \"SI\":\n",
    "            vec[4] = 1\n",
    "        elif elem == \"CU\":\n",
    "            vec[5] = 1\n",
    "        else:\n",
    "            print(\"error invalid y\")\n",
    "        new_y.append(vec)\n",
    "    return new_y"
   ]
  },
  {
   "cell_type": "code",
   "execution_count": 3,
   "id": "c15d70ef",
   "metadata": {},
   "outputs": [
    {
     "name": "stderr",
     "output_type": "stream",
     "text": [
      "C:\\Users\\91133\\Anaconda3\\envs\\tf\\lib\\site-packages\\IPython\\core\\interactiveshell.py:3444: DtypeWarning: Columns (43) have mixed types.Specify dtype option on import or set low_memory=False.\n",
      "  exec(code_obj, self.user_global_ns, self.user_ns)\n"
     ]
    },
    {
     "name": "stdout",
     "output_type": "stream",
     "text": [
      "Index(['pitch_type', 'game_date', 'release_speed', 'release_pos_x',\n",
      "       'release_pos_z', 'player_name', 'batter', 'pitcher', 'events',\n",
      "       'description', 'spin_dir', 'spin_rate_deprecated',\n",
      "       'break_angle_deprecated', 'break_length_deprecated', 'zone', 'des',\n",
      "       'game_type', 'stand', 'p_throws', 'home_team', 'away_team', 'type',\n",
      "       'hit_location', 'bb_type', 'balls', 'strikes', 'game_year', 'pfx_x',\n",
      "       'pfx_z', 'plate_x', 'plate_z', 'on_3b', 'on_2b', 'on_1b',\n",
      "       'outs_when_up', 'inning', 'inning_topbot', 'hc_x', 'hc_y',\n",
      "       'tfs_deprecated', 'tfs_zulu_deprecated', 'fielder_2', 'umpire', 'sv_id',\n",
      "       'vx0', 'vy0', 'vz0', 'ax', 'ay', 'az', 'sz_top', 'sz_bot',\n",
      "       'hit_distance_sc', 'launch_speed', 'launch_angle', 'effective_speed',\n",
      "       'release_spin_rate', 'release_extension', 'game_pk', 'pitcher.1',\n",
      "       'fielder_2.1', 'fielder_3', 'fielder_4', 'fielder_5', 'fielder_6',\n",
      "       'fielder_7', 'fielder_8', 'fielder_9', 'release_pos_y',\n",
      "       'estimated_ba_using_speedangle', 'estimated_woba_using_speedangle',\n",
      "       'woba_value', 'woba_denom', 'babip_value', 'iso_value',\n",
      "       'launch_speed_angle', 'at_bat_number', 'pitch_number', 'pitch_name',\n",
      "       'home_score', 'away_score', 'bat_score', 'fld_score', 'post_away_score',\n",
      "       'post_home_score', 'post_bat_score', 'post_fld_score',\n",
      "       'if_fielding_alignment', 'of_fielding_alignment', 'spin_axis',\n",
      "       'delta_home_win_exp', 'delta_run_exp'],\n",
      "      dtype='object')\n"
     ]
    }
   ],
   "source": [
    "plays = pd.read_csv('full_cole_data.csv')\n",
    "\n",
    "print(plays.columns)\n",
    "\n",
    "pitch_types = {}\n",
    "drop_indexes = []\n",
    "\n",
    "for index, row in plays.iterrows():\n",
    "    # keep track of number of pitches in each category\n",
    "    pitch_type = row[\"pitch_type\"]\n",
    "        \n",
    "    if pitch_type in pitch_types:\n",
    "        pitch_types[pitch_type] += 1\n",
    "    else:\n",
    "        pitch_types[pitch_type] = 1\n",
    "    \n",
    "    # SI(sinker) and FT(2 seam fastball) synonymous w each other, so combine to one category\n",
    "    if pitch_type == \"FT\":\n",
    "        plays.at[index, \"pitch_type\"] = \"SI\"\n",
    "    # remove PO(pitch out)(6 values), IN(intentional ball)(18 values), remove nan pitch types(30 values) (data messed up)\n",
    "    # remove FA(fastball)(1 value) bc not a specific type of fastball\n",
    "    if pitch_type == \"PO\" or pitch_type == \"IN\" or pitch_type == \"P0\" or pd.isna(pitch_type) or pitch_type == \"FA\":\n",
    "        drop_indexes.append(index)\n",
    "\n",
    "clean_plays = plays\n",
    "# remove PO(pitch out)(6 values), IN(intentional ball)(18 values), remove nan pitch types(30 values) (data messed up)\n",
    "for index in drop_indexes:\n",
    "    clean_plays = clean_plays.drop(index)"
   ]
  },
  {
   "cell_type": "code",
   "execution_count": 4,
   "id": "c760a954",
   "metadata": {},
   "outputs": [
    {
     "name": "stdout",
     "output_type": "stream",
     "text": [
      "92\n",
      "{'CH': 1791, 'FF': 12186, 'KC': 3291, 'SL': 4893, 'SI': 1344, 'FT': 904, nan: 30, 'PO': 6, 'IN': 18, 'CU': 49, 'FA': 1}\n",
      "(24513, 92)\n",
      "(24458, 92)\n"
     ]
    }
   ],
   "source": [
    "print(len(plays.columns))\n",
    "print(pitch_types)\n",
    "print(plays.shape)\n",
    "print(clean_plays.shape)"
   ]
  },
  {
   "cell_type": "code",
   "execution_count": 5,
   "id": "a82a40da",
   "metadata": {},
   "outputs": [],
   "source": [
    "pitch_types2 = {}\n",
    "total_pitches = len(clean_plays)\n",
    "for index, row in clean_plays.iterrows(): \n",
    "    pitch_type = row[\"pitch_type\"]\n",
    "    if pitch_type in pitch_types2:\n",
    "        pitch_types2[pitch_type] += 1\n",
    "    else:\n",
    "        pitch_types2[pitch_type] = 1"
   ]
  },
  {
   "cell_type": "code",
   "execution_count": 6,
   "id": "bed7c11d",
   "metadata": {},
   "outputs": [
    {
     "name": "stdout",
     "output_type": "stream",
     "text": [
      "{'CH': 1791, 'FF': 12186, 'KC': 3291, 'SL': 4893, 'SI': 2248, 'CU': 49}\n",
      "24458\n",
      "[0.07322757379998364, 0.49824188404611985, 0.1345572000981274, 0.20005724098454494, 0.09191266661215144, 0.002003434459072696]\n"
     ]
    }
   ],
   "source": [
    "print(pitch_types2)\n",
    "print(total_pitches)\n",
    "pitch_frequency = []\n",
    "for key in pitch_types2.keys():\n",
    "    pitch_frequency.append(pitch_types2[key] / total_pitches)\n",
    "print(pitch_frequency)"
   ]
  },
  {
   "cell_type": "code",
   "execution_count": 7,
   "id": "43d4507e",
   "metadata": {},
   "outputs": [],
   "source": [
    "x = []\n",
    "y_og = []\n",
    "# gather data to feed into network\n",
    "for indx, row in clean_plays.iterrows():\n",
    "    pitch = row[\"pitch_type\"]\n",
    "    balls = row[\"balls\"]\n",
    "    strikes = row[\"strikes\"]\n",
    "    inning = row[\"inning\"]\n",
    "    outs = row[\"outs_when_up\"]\n",
    "    score_diff = row[\"fld_score\"] - row[\"bat_score\"]\n",
    "    if row[\"stand\"] == \"R\":\n",
    "        batter_stance = 1\n",
    "    else:\n",
    "         batter_stance = 0\n",
    "    \n",
    "    y_og.append(pitch)\n",
    "    x.append([balls,strikes,outs,inning, score_diff, batter_stance])\n",
    "\n",
    "# one hot encode pitch names\n",
    "y = custom_encode(y_og)"
   ]
  },
  {
   "cell_type": "code",
   "execution_count": 8,
   "id": "a4ada44b",
   "metadata": {},
   "outputs": [],
   "source": [
    "# shuffle up data\n",
    "combined = list(zip(x, y))\n",
    "random.shuffle(combined)\n",
    "x[:], y[:] = zip(*combined)\n",
    "\n",
    "# seperate data into train and test sets\n",
    "x_train = x[:int(len(x)*0.9)]\n",
    "y_train = y[:int(len(x)*0.9)]\n",
    "x_test = x[int(len(x)*0.9):]\n",
    "y_test = y[int(len(x)*0.9):]"
   ]
  },
  {
   "cell_type": "code",
   "execution_count": 9,
   "id": "dafc473a",
   "metadata": {},
   "outputs": [
    {
     "name": "stdout",
     "output_type": "stream",
     "text": [
      "Epoch 1/20\n",
      "172/172 [==============================] - 2s 4ms/step - loss: 1.5089 - accuracy: 0.4707\n",
      "Epoch 2/20\n",
      "172/172 [==============================] - 0s 3ms/step - loss: 1.3762 - accuracy: 0.4987\n",
      "Epoch 3/20\n",
      "172/172 [==============================] - 0s 3ms/step - loss: 1.3537 - accuracy: 0.4987\n",
      "Epoch 4/20\n",
      "172/172 [==============================] - 0s 3ms/step - loss: 1.3426 - accuracy: 0.4987\n",
      "Epoch 5/20\n",
      "172/172 [==============================] - 0s 3ms/step - loss: 1.3349 - accuracy: 0.4988\n",
      "Epoch 6/20\n",
      "172/172 [==============================] - 0s 3ms/step - loss: 1.3293 - accuracy: 0.4983\n",
      "Epoch 7/20\n",
      "172/172 [==============================] - 0s 3ms/step - loss: 1.3252 - accuracy: 0.4986\n",
      "Epoch 8/20\n",
      "172/172 [==============================] - 0s 3ms/step - loss: 1.3223 - accuracy: 0.4983\n",
      "Epoch 9/20\n",
      "172/172 [==============================] - 0s 3ms/step - loss: 1.3196 - accuracy: 0.4985\n",
      "Epoch 10/20\n",
      "172/172 [==============================] - 0s 3ms/step - loss: 1.3173 - accuracy: 0.4984\n",
      "Epoch 11/20\n",
      "172/172 [==============================] - 0s 3ms/step - loss: 1.3156 - accuracy: 0.4976\n",
      "Epoch 12/20\n",
      "172/172 [==============================] - 1s 3ms/step - loss: 1.3138 - accuracy: 0.4983\n",
      "Epoch 13/20\n",
      "172/172 [==============================] - 0s 3ms/step - loss: 1.3125 - accuracy: 0.4984\n",
      "Epoch 14/20\n",
      "172/172 [==============================] - 0s 2ms/step - loss: 1.3115 - accuracy: 0.4987\n",
      "Epoch 15/20\n",
      "172/172 [==============================] - 0s 2ms/step - loss: 1.3104 - accuracy: 0.4978\n",
      "Epoch 16/20\n",
      "172/172 [==============================] - 0s 3ms/step - loss: 1.3097 - accuracy: 0.4978\n",
      "Epoch 17/20\n",
      "172/172 [==============================] - 0s 3ms/step - loss: 1.3085 - accuracy: 0.4980\n",
      "Epoch 18/20\n",
      "172/172 [==============================] - 0s 2ms/step - loss: 1.3079 - accuracy: 0.4984\n",
      "Epoch 19/20\n",
      "172/172 [==============================] - 0s 2ms/step - loss: 1.3077 - accuracy: 0.4980\n",
      "Epoch 20/20\n",
      "172/172 [==============================] - 0s 2ms/step - loss: 1.3068 - accuracy: 0.4982\n"
     ]
    },
    {
     "data": {
      "text/plain": [
       "<tensorflow.python.keras.callbacks.History at 0x1a2cab5e880>"
      ]
     },
     "execution_count": 9,
     "metadata": {},
     "output_type": "execute_result"
    }
   ],
   "source": [
    "model = Sequential()\n",
    "model.add(Dense(10,input_dim=6, activation='relu'))\n",
    "model.add(Dense(10, activation='relu'))\n",
    "model.add(Dense(6, activation='softmax'))\n",
    "model.compile(loss='categorical_crossentropy', optimizer='adam', metrics=['accuracy'])\n",
    "\n",
    "model.fit(x_train, y_train, batch_size=128, epochs=20, verbose=1)"
   ]
  },
  {
   "cell_type": "code",
   "execution_count": 10,
   "id": "fe842533",
   "metadata": {},
   "outputs": [
    {
     "name": "stdout",
     "output_type": "stream",
     "text": [
      "Test loss: 1.3249610662460327\n",
      "Test accuracy: 0.49386754631996155\n"
     ]
    }
   ],
   "source": [
    "score = model.evaluate(x_test, y_test, verbose = 0) \n",
    "\n",
    "print('Test loss:', score[0]) \n",
    "print('Test accuracy:', score[1])"
   ]
  },
  {
   "cell_type": "code",
   "execution_count": 11,
   "id": "7e676306",
   "metadata": {
    "scrolled": true
   },
   "outputs": [],
   "source": [
    "pred = model.predict(x_test) "
   ]
  },
  {
   "cell_type": "code",
   "execution_count": 12,
   "id": "26fa32f6",
   "metadata": {},
   "outputs": [
    {
     "name": "stdout",
     "output_type": "stream",
     "text": [
      "{'CH': 1791, 'FF': 12186, 'KC': 3291, 'SL': 4893, 'SI': 2248, 'CU': 49}\n"
     ]
    }
   ],
   "source": [
    "print(pitch_types2)\n",
    "CH = []\n",
    "FF = []\n",
    "KC = []\n",
    "SL = []\n",
    "SI = []\n",
    "CU = []\n",
    "for p in pred:\n",
    "    CH.append(p[0])\n",
    "    FF.append(p[1])\n",
    "    KC.append(p[2])\n",
    "    SL.append(p[3])\n",
    "    SI.append(p[4])\n",
    "    CU.append(p[5])"
   ]
  },
  {
   "cell_type": "code",
   "execution_count": 13,
   "id": "bca158a0",
   "metadata": {},
   "outputs": [],
   "source": [
    "import matplotlib.pyplot as plt"
   ]
  },
  {
   "cell_type": "code",
   "execution_count": 14,
   "id": "2beb5c5b",
   "metadata": {},
   "outputs": [
    {
     "name": "stdout",
     "output_type": "stream",
     "text": [
      "Change Up samples:  1791\n"
     ]
    },
    {
     "data": {
      "image/png": "[encoded data removed]",
      "text/plain": [
       "<Figure size 432x288 with 1 Axes>"
      ]
     },
     "metadata": {
      "needs_background": "light"
     },
     "output_type": "display_data"
    }
   ],
   "source": [
    "plt.hist(CH)\n",
    "plt.xlabel(\"Predicted Probability of Change Up\")\n",
    "plt.ylabel(\"Frequency\")\n",
    "plt.title(\"Predicted Probability of Change Up\")\n",
    "plt.axvline(pitch_frequency[0], color='k', linestyle='dashed', linewidth=1, label=\"Average Predicted Probability\")\n",
    "plt.axvline(sum(CH)/len(CH), color='r', linestyle='dashed', linewidth=1, label=\"Actual Frequency\")\n",
    "plt.legend(loc=\"upper right\")\n",
    "print(\"Change Up samples: \", pitch_types2[\"CH\"])"
   ]
  },
  {
   "cell_type": "code",
   "execution_count": 15,
   "id": "49d13434",
   "metadata": {},
   "outputs": [
    {
     "name": "stdout",
     "output_type": "stream",
     "text": [
      "Four-Seam Fastball samples:  12186\n"
     ]
    },
    {
     "data": {
      "image/png": "[encoded data removed]",
      "text/plain": [
       "<Figure size 432x288 with 1 Axes>"
      ]
     },
     "metadata": {
      "needs_background": "light"
     },
     "output_type": "display_data"
    }
   ],
   "source": [
    "plt.hist(FF)\n",
    "plt.xlabel(\"Predicted Probability of Four-Seam Fastball\")\n",
    "plt.ylabel(\"Frequency\")\n",
    "plt.title(\"Predicted Probability of Four-Seam Fastball\")\n",
    "plt.axvline(pitch_frequency[1], color='k', linestyle='dashed', linewidth=1, label=\"Average Predicted Probability\")\n",
    "plt.axvline(sum(FF)/len(FF), color='r', linestyle='dashed', linewidth=1, label=\"Actual Frequency\")\n",
    "plt.legend(loc=\"upper right\")\n",
    "print(\"Four-Seam Fastball samples: \", pitch_types2[\"FF\"])"
   ]
  },
  {
   "cell_type": "code",
   "execution_count": 16,
   "id": "864ae694",
   "metadata": {},
   "outputs": [
    {
     "name": "stdout",
     "output_type": "stream",
     "text": [
      "Knuckle Curve samples:  3291\n"
     ]
    },
    {
     "data": {
      "image/png": "[encoded data removed]",
      "text/plain": [
       "<Figure size 432x288 with 1 Axes>"
      ]
     },
     "metadata": {
      "needs_background": "light"
     },
     "output_type": "display_data"
    }
   ],
   "source": [
    "plt.hist(KC)\n",
    "plt.xlabel(\"Predicted Probability of Knuckle Curve\")\n",
    "plt.ylabel(\"Frequency\")\n",
    "plt.title(\"Predicted Probability of Knuckle Curve\")\n",
    "plt.axvline(pitch_frequency[2], color='k', linestyle='dashed', linewidth=1, label=\"Average Predicted Probability\")\n",
    "plt.axvline(sum(KC)/len(KC), color='r', linestyle='dashed', linewidth=1, label=\"Actual Frequency\")\n",
    "plt.legend(loc=\"upper right\")\n",
    "print(\"Knuckle Curve samples: \", pitch_types2[\"KC\"])"
   ]
  },
  {
   "cell_type": "code",
   "execution_count": 17,
   "id": "535e1f17",
   "metadata": {},
   "outputs": [
    {
     "name": "stdout",
     "output_type": "stream",
     "text": [
      "Slider samples:  4893\n"
     ]
    },
    {
     "data": {
      "image/png": "[encoded data removed]",
      "text/plain": [
       "<Figure size 432x288 with 1 Axes>"
      ]
     },
     "metadata": {
      "needs_background": "light"
     },
     "output_type": "display_data"
    }
   ],
   "source": [
    "plt.hist(SL)\n",
    "plt.xlabel(\"Predicted Probability of Slider\")\n",
    "plt.ylabel(\"Frequency\")\n",
    "plt.title(\"Predicted Probability of Slider\")\n",
    "plt.axvline(pitch_frequency[3], color='k', linestyle='dashed', linewidth=1, label=\"Average Predicted Probability\")\n",
    "plt.axvline(sum(SL)/len(SL), color='r', linestyle='dashed', linewidth=1, label=\"Actual Frequency\")\n",
    "plt.legend(loc=\"upper right\")\n",
    "print(\"Slider samples: \", pitch_types2[\"SL\"])"
   ]
  },
  {
   "cell_type": "code",
   "execution_count": 18,
   "id": "38f1c7b4",
   "metadata": {},
   "outputs": [
    {
     "name": "stdout",
     "output_type": "stream",
     "text": [
      "Sinker samples:  2248\n"
     ]
    },
    {
     "data": {
      "image/png": "[encoded data removed]",
      "text/plain": [
       "<Figure size 432x288 with 1 Axes>"
      ]
     },
     "metadata": {
      "needs_background": "light"
     },
     "output_type": "display_data"
    }
   ],
   "source": [
    "plt.hist(SL)\n",
    "plt.xlabel(\"Predicted Probability of Sinker\")\n",
    "plt.ylabel(\"Frequency\")\n",
    "plt.title(\"Predicted Probability of Sinker\")\n",
    "plt.axvline(pitch_frequency[4], color='k', linestyle='dashed', linewidth=1, label=\"Average Predicted Probability\")\n",
    "plt.axvline(sum(SL)/len(SL), color='r', linestyle='dashed', linewidth=1, label=\"Actual Frequency\")\n",
    "print(\"Sinker samples: \", pitch_types2[\"SI\"])"
   ]
  },
  {
   "cell_type": "code",
   "execution_count": 19,
   "id": "88c760c6",
   "metadata": {},
   "outputs": [
    {
     "name": "stdout",
     "output_type": "stream",
     "text": [
      "Cuter samples:  49\n"
     ]
    },
    {
     "data": {
      "image/png": "[encoded data removed]",
      "text/plain": [
       "<Figure size 432x288 with 1 Axes>"
      ]
     },
     "metadata": {
      "needs_background": "light"
     },
     "output_type": "display_data"
    }
   ],
   "source": [
    "plt.hist(CU)\n",
    "plt.xlabel(\"Predicted Probability of Cuter\")\n",
    "plt.ylabel(\"Frequency\")\n",
    "plt.title(\"Predicted Probability of Cuter\")\n",
    "plt.axvline(pitch_frequency[5], color='k', linestyle='dashed', linewidth=1, label=\"Average Predicted Probability\")\n",
    "plt.axvline(sum(CU)/len(CU), color='r', linestyle='dashed', linewidth=1, label=\"Actual Frequency\")\n",
    "plt.legend(loc=\"upper right\")\n",
    "print(\"Cuter samples: \", pitch_types2[\"CU\"])"
   ]
  },
  {
   "cell_type": "code",
   "execution_count": 21,
   "id": "ea040355",
   "metadata": {},
   "outputs": [
    {
     "name": "stdout",
     "output_type": "stream",
     "text": [
      "[0, 1, 0, 0, 0, 0]\n"
     ]
    },
    {
     "data": {
      "image/png": "[encoded data removed]",
      "text/plain": [
       "<Figure size 432x288 with 1 Axes>"
      ]
     },
     "metadata": {
      "needs_background": "light"
     },
     "output_type": "display_data"
    }
   ],
   "source": [
    "plt.bar([\"CH\",\"FF\",\"KC\",\"SL\",\"SI\",\"CU\"],pred[1111])\n",
    "print(y_test[1111])"
   ]
  },
  {
   "cell_type": "code",
   "execution_count": null,
   "id": "144067ff",
   "metadata": {},
   "outputs": [],
   "source": []
  }
 ],
 "metadata": {
  "kernelspec": {
   "display_name": "Python 3 (ipykernel)",
   "language": "python",
   "name": "python3"
  },
  "language_info": {
   "codemirror_mode": {
    "name": "ipython",
    "version": 3
   },
   "file_extension": ".py",
   "mimetype": "text/x-python",
   "name": "python",
   "nbconvert_exporter": "python",
   "pygments_lexer": "ipython3",
   "version": "3.9.7"
  }
 },
 "nbformat": 4,
 "nbformat_minor": 5
}
